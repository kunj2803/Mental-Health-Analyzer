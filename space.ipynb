{
 "cells": [
  {
   "cell_type": "code",
   "execution_count": null,
   "id": "4ea2e0a6",
   "metadata": {
    "vscode": {
     "languageId": "plaintext"
    }
   },
   "outputs": [],
   "source": [
    "import nltk\n",
    "nltk.download('punkt', download_dir='nltk_data')\n",
    "nltk.download('averaged_perceptron_tagger', download_dir='nltk_data')\n",
    "nltk.download('wordnet', download_dir='nltk_data')\n",
    "nltk.download('omw-1.4', download_dir='nltk_data')\n",
    "nltk.download('punkt_tab', download_dir='nltk_data')\n"
   ]
  }
 ],
 "metadata": {
  "language_info": {
   "name": "python"
  }
 },
 "nbformat": 4,
 "nbformat_minor": 5
}
